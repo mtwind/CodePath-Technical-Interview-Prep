{
 "cells": [
  {
   "cell_type": "markdown",
   "metadata": {},
   "source": [
    "# Breakout Problems"
   ]
  },
  {
   "cell_type": "markdown",
   "metadata": {},
   "source": [
    "## Problem 1: Hundred Acre Wood"
   ]
  },
  {
   "cell_type": "code",
   "execution_count": 3,
   "metadata": {},
   "outputs": [
    {
     "name": "stdout",
     "output_type": "stream",
     "text": [
      "Welcome to The Hundred Acre Wood!\n"
     ]
    }
   ],
   "source": [
    "def welcome():\n",
    "    string = \"Welcome to The Hundred Acre Wood!\"\n",
    "    print(string)\n",
    "\n",
    "welcome()"
   ]
  },
  {
   "cell_type": "markdown",
   "metadata": {},
   "source": [
    "## Problem 1: Hunny Hunt"
   ]
  },
  {
   "cell_type": "code",
   "execution_count": 1,
   "metadata": {},
   "outputs": [
    {
     "name": "stdout",
     "output_type": "stream",
     "text": [
      "3\n",
      "-1\n"
     ]
    }
   ],
   "source": [
    "def linear_search(lst, target):\n",
    "    n = len(lst)\n",
    "\n",
    "    for i in range(n):\n",
    "        if lst[i] == target:\n",
    "            return i\n",
    "        \n",
    "    return -1\n",
    "\n",
    "items = ['haycorn', 'haycorn', 'haycorn', 'hunny', 'haycorn']\n",
    "target = 'hunny'\n",
    "val = linear_search(items, target)\n",
    "print(val)\n",
    "\n",
    "items = ['bed', 'blue jacket', 'red shirt', 'hunny']\n",
    "target = 'red balloon'\n",
    "val = linear_search(items, target)\n",
    "print(val)"
   ]
  },
  {
   "cell_type": "markdown",
   "metadata": {},
   "source": [
    "## Problem 2: Bouncy, Flouncy, Trouncy, Pouncy"
   ]
  },
  {
   "cell_type": "code",
   "execution_count": 3,
   "metadata": {},
   "outputs": [
    {
     "name": "stdout",
     "output_type": "stream",
     "text": [
      "2\n",
      "4\n"
     ]
    }
   ],
   "source": [
    "def final_value_after_operations(operations):\n",
    "\t\n",
    "    val = 1\n",
    "\n",
    "    for op in operations:\n",
    "        val += 1 if op == \"bouncy\" or op == \"flouncy\" else -1\n",
    "\n",
    "    return val\n",
    "\n",
    "\n",
    "operations = [\"trouncy\", \"flouncy\", \"flouncy\"]\n",
    "val = final_value_after_operations(operations)\n",
    "print(val)\n",
    "\n",
    "operations = [\"bouncy\", \"bouncy\", \"flouncy\"]\n",
    "val = final_value_after_operations(operations)\n",
    "print(val)"
   ]
  },
  {
   "cell_type": "markdown",
   "metadata": {},
   "source": [
    "# Problem 3: T-I-Double Guh-Er II"
   ]
  },
  {
   "cell_type": "code",
   "execution_count": 6,
   "metadata": {},
   "outputs": [],
   "source": [
    "def tiggerfy(word):\n",
    "\t\n",
    "    word = word.lower()\n",
    "\n",
    "    letters = {\"t\", \"i\", \"gg\", \"er\"}\n",
    "\n",
    "    index = 0\n",
    "    n = len(word)\n",
    "    result = []\n",
    "\n",
    "    while index < n:\n",
    "        letter = word[index]\n",
    "        if index != n - 1: \n",
    "            if letter == \"g\" and word[index + 1] == \"g\":\n",
    "                index += 2\n",
    "                continue\n",
    "            if letter == \"e\" and word[index + 1] == \"r\":\n",
    "                index += 2\n",
    "                continue\n",
    "        \n",
    "        if letter in letters:\n",
    "            index += 1\n",
    "            continue\n",
    "\n",
    "        result.append(letter)\n",
    "        index += 1\n",
    "\n",
    "    return \"\".join(result)"
   ]
  },
  {
   "cell_type": "code",
   "execution_count": 7,
   "metadata": {},
   "outputs": [
    {
     "name": "stdout",
     "output_type": "stream",
     "text": [
      "r\n",
      "eplan\n",
      "chor\n"
     ]
    }
   ],
   "source": [
    "word = \"Trigger\"\n",
    "val = tiggerfy(word)\n",
    "print(val)\n",
    "\n",
    "word = \"eggplant\"\n",
    "val = tiggerfy(word)\n",
    "print(val)\n",
    "\n",
    "word = \"Choir\"\n",
    "val = tiggerfy(word)\n",
    "print(val)"
   ]
  },
  {
   "cell_type": "markdown",
   "metadata": {},
   "source": [
    "## Problem 4: Non-decreasing Array"
   ]
  },
  {
   "cell_type": "code",
   "execution_count": 10,
   "metadata": {},
   "outputs": [],
   "source": [
    "def non_decreasing(nums):\n",
    "\n",
    "    n = len(nums)\n",
    "    count = 0\n",
    "\n",
    "    for i in range(1, n):\n",
    "        if nums[i] < nums[i - 1]:\n",
    "            count += 1\n",
    "            if count > 1:\n",
    "                return False\n",
    "            \n",
    "    return True"
   ]
  },
  {
   "cell_type": "code",
   "execution_count": 11,
   "metadata": {},
   "outputs": [
    {
     "name": "stdout",
     "output_type": "stream",
     "text": [
      "True\n",
      "False\n"
     ]
    }
   ],
   "source": [
    "nums = [4, 2, 3]\n",
    "val = non_decreasing(nums)\n",
    "print(val)\n",
    "\n",
    "nums = [4, 2, 1]\n",
    "val = non_decreasing(nums)\n",
    "print(val)"
   ]
  },
  {
   "cell_type": "markdown",
   "metadata": {},
   "source": [
    "# Problem 5: Missing Clues"
   ]
  },
  {
   "cell_type": "code",
   "execution_count": 20,
   "metadata": {},
   "outputs": [],
   "source": [
    "def find_missing_clues(clues, lower, upper):\n",
    "\n",
    "    clues.sort()\n",
    "\n",
    "    result = []\n",
    "\n",
    "    if clues[0] != lower:\n",
    "        val = [lower, clues[0] - 1]\n",
    "        result.append(val)\n",
    "\n",
    "    n = len(clues)\n",
    "\n",
    "    for i in range(1, n):\n",
    "        if clues[i] - clues[i - 1] != 1:\n",
    "            result.append([clues[i - 1] + 1, clues[i] - 1])\n",
    "\n",
    "    if clues[-1] != upper:\n",
    "        result.append([clues[-1] + 1, upper])\n",
    "\n",
    "    return result"
   ]
  },
  {
   "cell_type": "code",
   "execution_count": 21,
   "metadata": {},
   "outputs": [
    {
     "name": "stdout",
     "output_type": "stream",
     "text": [
      "[[2, 2], [4, 49], [51, 74], [76, 99]]\n",
      "[]\n"
     ]
    }
   ],
   "source": [
    "clues = [0, 1, 3, 50, 75]\n",
    "lower = 0\n",
    "upper = 99\n",
    "val = find_missing_clues(clues, lower, upper)\n",
    "print(val)\n",
    "\n",
    "clues = [-1]\n",
    "lower = -1\n",
    "upper = -1\n",
    "val = find_missing_clues(clues, lower, upper)\n",
    "print(val)"
   ]
  },
  {
   "cell_type": "markdown",
   "metadata": {},
   "source": []
  }
 ],
 "metadata": {
  "kernelspec": {
   "display_name": "myenv",
   "language": "python",
   "name": "python3"
  },
  "language_info": {
   "codemirror_mode": {
    "name": "ipython",
    "version": 3
   },
   "file_extension": ".py",
   "mimetype": "text/x-python",
   "name": "python",
   "nbconvert_exporter": "python",
   "pygments_lexer": "ipython3",
   "version": "3.11.9"
  }
 },
 "nbformat": 4,
 "nbformat_minor": 2
}
